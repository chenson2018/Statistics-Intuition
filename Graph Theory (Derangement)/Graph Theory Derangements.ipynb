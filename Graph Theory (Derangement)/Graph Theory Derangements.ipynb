{
 "cells": [
  {
   "cell_type": "markdown",
   "metadata": {},
   "source": [
    "I want to generate permutations of valid secret Santa networks, noting that you aren't allowed to have yourself as your own secret Santa! \n",
    "\n",
    "(This function is named derangement because that is the mathematical term for a permutation of a set with no fixed points)"
   ]
  },
  {
   "cell_type": "code",
   "execution_count": 126,
   "metadata": {},
   "outputs": [],
   "source": [
    "import matplotlib.pyplot as plt\n",
    "%matplotlib inline"
   ]
  },
  {
   "cell_type": "code",
   "execution_count": 75,
   "metadata": {},
   "outputs": [],
   "source": [
    "from itertools import permutations\n",
    "\n",
    "def derangement(n):\n",
    "    derangement = []\n",
    "    \n",
    "    permutations_list = permutations(range(n))\n",
    "    \n",
    "    for permutation in permutations_list:\n",
    "        if all( giver != recepient for giver, recepient in enumerate(permutation)):\n",
    "            derangement.append(tuple(zip(range(n), permutation)))\n",
    "            \n",
    "    return derangement"
   ]
  },
  {
   "cell_type": "markdown",
   "metadata": {},
   "source": [
    "Example for n = 4:"
   ]
  },
  {
   "cell_type": "code",
   "execution_count": 76,
   "metadata": {
    "scrolled": true
   },
   "outputs": [
    {
     "data": {
      "text/plain": [
       "[((0, 1), (1, 0), (2, 3), (3, 2)),\n",
       " ((0, 1), (1, 2), (2, 3), (3, 0)),\n",
       " ((0, 1), (1, 3), (2, 0), (3, 2)),\n",
       " ((0, 2), (1, 0), (2, 3), (3, 1)),\n",
       " ((0, 2), (1, 3), (2, 0), (3, 1)),\n",
       " ((0, 2), (1, 3), (2, 1), (3, 0)),\n",
       " ((0, 3), (1, 0), (2, 1), (3, 2)),\n",
       " ((0, 3), (1, 2), (2, 0), (3, 1)),\n",
       " ((0, 3), (1, 2), (2, 1), (3, 0))]"
      ]
     },
     "execution_count": 76,
     "metadata": {},
     "output_type": "execute_result"
    }
   ],
   "source": [
    "derangement(4)"
   ]
  },
  {
   "cell_type": "markdown",
   "metadata": {},
   "source": [
    "So for example, the first item returned above"
   ]
  },
  {
   "cell_type": "code",
   "execution_count": 77,
   "metadata": {},
   "outputs": [
    {
     "data": {
      "text/plain": [
       "((0, 1), (1, 0), (2, 3), (3, 2))"
      ]
     },
     "execution_count": 77,
     "metadata": {},
     "output_type": "execute_result"
    }
   ],
   "source": [
    "derangement(4)[0]"
   ]
  },
  {
   "cell_type": "markdown",
   "metadata": {},
   "source": [
    "Says that:\n",
    "\n",
    "- person 0 gives a gift to person 1\n",
    "- person 1 gives a gift to person 0\n",
    "- person 2 gives a gift to person 3\n",
    "- person 3 gives a gift to person 2\n",
    "\n",
    "In this case, there are two distinct cycles. Pictured below:"
   ]
  },
  {
   "cell_type": "code",
   "execution_count": 139,
   "metadata": {},
   "outputs": [
    {
     "data": {
      "image/png": "[encoded data removed]",
      "text/plain": [
       "<Figure size 432x288 with 1 Axes>"
      ]
     },
     "metadata": {},
     "output_type": "display_data"
    }
   ],
   "source": [
    "G = nx.DiGraph()\n",
    "G.add_nodes_from(range(4))\n",
    "G.add_edges_from(derangement(4)[0])\n",
    "nx.draw_circular(G, with_labels = True)"
   ]
  },
  {
   "cell_type": "markdown",
   "metadata": {},
   "source": [
    "It could also be a chain of four like:"
   ]
  },
  {
   "cell_type": "code",
   "execution_count": 71,
   "metadata": {},
   "outputs": [
    {
     "data": {
      "text/plain": [
       "{0: 1, 1: 2, 2: 3, 3: 0}"
      ]
     },
     "execution_count": 71,
     "metadata": {},
     "output_type": "execute_result"
    }
   ],
   "source": [
    "derangement(4)[1]"
   ]
  },
  {
   "cell_type": "code",
   "execution_count": 140,
   "metadata": {},
   "outputs": [
    {
     "data": {
      "image/png": "[encoded data removed]",
      "text/plain": [
       "<Figure size 432x288 with 1 Axes>"
      ]
     },
     "metadata": {},
     "output_type": "display_data"
    }
   ],
   "source": [
    "G = nx.DiGraph()\n",
    "G.add_nodes_from(range(4))\n",
    "G.add_edges_from(derangement(4)[1])\n",
    "nx.draw_circular(G, with_labels = True)"
   ]
  },
  {
   "cell_type": "markdown",
   "metadata": {},
   "source": [
    "Let's write a function that determines how many disjoint cycles exist:"
   ]
  },
  {
   "cell_type": "code",
   "execution_count": 143,
   "metadata": {},
   "outputs": [],
   "source": [
    "import networkx as nx\n",
    "\n",
    "def cycle(n, plot = False):\n",
    "    derange = derangement(n)\n",
    "    \n",
    "    cycle_list = []\n",
    "    \n",
    "    for permutation in derange:\n",
    "        # Create Directed Graph\n",
    "        G = nx.DiGraph()\n",
    "\n",
    "        # Add a list of nodes:\n",
    "        G.add_nodes_from(range(4))\n",
    "\n",
    "        # Add a list of edges:\n",
    "        G.add_edges_from(permutation)\n",
    "        \n",
    "        disjoint = len(list(nx.simple_cycles(G)))\n",
    "        cycle_list.append(disjoint)\n",
    "        \n",
    "        if plot:\n",
    "            print(f\"{disjoint} disjoint cycles\")\n",
    "            nx.draw_circular(G, with_labels = True)\n",
    "            plt.show()\n",
    "        \n",
    "    return cycle_list"
   ]
  },
  {
   "cell_type": "markdown",
   "metadata": {},
   "source": [
    "Again, an example for the 9 possibilities for n = 4:"
   ]
  },
  {
   "cell_type": "code",
   "execution_count": 144,
   "metadata": {
    "scrolled": false
   },
   "outputs": [
    {
     "name": "stdout",
     "output_type": "stream",
     "text": [
      "2 disjoint cycles\n"
     ]
    },
    {
     "data": {
      "image/png": "[encoded data removed]",
      "text/plain": [
       "<Figure size 432x288 with 1 Axes>"
      ]
     },
     "metadata": {},
     "output_type": "display_data"
    },
    {
     "name": "stdout",
     "output_type": "stream",
     "text": [
      "1 disjoint cycles\n"
     ]
    },
    {
     "data": {
      "image/png": "[encoded data removed]",
      "text/plain": [
       "<Figure size 432x288 with 1 Axes>"
      ]
     },
     "metadata": {},
     "output_type": "display_data"
    },
    {
     "name": "stdout",
     "output_type": "stream",
     "text": [
      "1 disjoint cycles\n"
     ]
    },
    {
     "data": {
      "image/png": "[encoded data removed]",
      "text/plain": [
       "<Figure size 432x288 with 1 Axes>"
      ]
     },
     "metadata": {},
     "output_type": "display_data"
    },
    {
     "name": "stdout",
     "output_type": "stream",
     "text": [
      "1 disjoint cycles\n"
     ]
    },
    {
     "data": {
      "image/png": "[encoded data removed]",
      "text/plain": [
       "<Figure size 432x288 with 1 Axes>"
      ]
     },
     "metadata": {},
     "output_type": "display_data"
    },
    {
     "name": "stdout",
     "output_type": "stream",
     "text": [
      "2 disjoint cycles\n"
     ]
    },
    {
     "data": {
      "image/png": "[encoded data removed]",
      "text/plain": [
       "<Figure size 432x288 with 1 Axes>"
      ]
     },
     "metadata": {},
     "output_type": "display_data"
    },
    {
     "name": "stdout",
     "output_type": "stream",
     "text": [
      "1 disjoint cycles\n"
     ]
    },
    {
     "data": {
      "image/png": "[encoded data removed]",
      "text/plain": [
       "<Figure size 432x288 with 1 Axes>"
      ]
     },
     "metadata": {},
     "output_type": "display_data"
    },
    {
     "name": "stdout",
     "output_type": "stream",
     "text": [
      "1 disjoint cycles\n"
     ]
    },
    {
     "data": {
      "image/png": "[encoded data removed]",
      "text/plain": [
       "<Figure size 432x288 with 1 Axes>"
      ]
     },
     "metadata": {},
     "output_type": "display_data"
    },
    {
     "name": "stdout",
     "output_type": "stream",
     "text": [
      "1 disjoint cycles\n"
     ]
    },
    {
     "data": {
      "image/png": "[encoded data removed]",
      "text/plain": [
       "<Figure size 432x288 with 1 Axes>"
      ]
     },
     "metadata": {},
     "output_type": "display_data"
    },
    {
     "name": "stdout",
     "output_type": "stream",
     "text": [
      "2 disjoint cycles\n"
     ]
    },
    {
     "data": {
      "image/png": "[encoded data removed]",
      "text/plain": [
       "<Figure size 432x288 with 1 Axes>"
      ]
     },
     "metadata": {},
     "output_type": "display_data"
    },
    {
     "data": {
      "text/plain": [
       "[2, 1, 1, 1, 2, 1, 1, 1, 2]"
      ]
     },
     "execution_count": 144,
     "metadata": {},
     "output_type": "execute_result"
    }
   ],
   "source": [
    "cycle(4, plot = True)"
   ]
  },
  {
   "cell_type": "markdown",
   "metadata": {},
   "source": [
    "Let's see what these probabilities of number of cycles is for each network size. This grows very quickly, so I'll keep it to a small number:"
   ]
  },
  {
   "cell_type": "code",
   "execution_count": 99,
   "metadata": {},
   "outputs": [],
   "source": [
    "from collections import Counter"
   ]
  },
  {
   "cell_type": "code",
   "execution_count": 124,
   "metadata": {},
   "outputs": [
    {
     "name": "stdout",
     "output_type": "stream",
     "text": [
      "Network of 2 participants:\n",
      "1 disjoint cycles happen with probability 1.00\n",
      "\n",
      "\n",
      "Network of 3 participants:\n",
      "1 disjoint cycles happen with probability 1.00\n",
      "\n",
      "\n",
      "Network of 4 participants:\n",
      "2 disjoint cycles happen with probability 0.33\n",
      "1 disjoint cycles happen with probability 0.67\n",
      "\n",
      "\n",
      "Network of 5 participants:\n",
      "2 disjoint cycles happen with probability 0.45\n",
      "1 disjoint cycles happen with probability 0.55\n",
      "\n",
      "\n",
      "Network of 6 participants:\n",
      "3 disjoint cycles happen with probability 0.06\n",
      "2 disjoint cycles happen with probability 0.49\n",
      "1 disjoint cycles happen with probability 0.45\n",
      "\n",
      "\n",
      "Network of 7 participants:\n",
      "3 disjoint cycles happen with probability 0.11\n",
      "2 disjoint cycles happen with probability 0.50\n",
      "1 disjoint cycles happen with probability 0.39\n",
      "\n",
      "\n",
      "Network of 8 participants:\n",
      "4 disjoint cycles happen with probability 0.01\n",
      "3 disjoint cycles happen with probability 0.16\n",
      "2 disjoint cycles happen with probability 0.49\n",
      "1 disjoint cycles happen with probability 0.34\n",
      "\n",
      "\n",
      "Network of 9 participants:\n",
      "4 disjoint cycles happen with probability 0.02\n",
      "3 disjoint cycles happen with probability 0.20\n",
      "2 disjoint cycles happen with probability 0.48\n",
      "1 disjoint cycles happen with probability 0.30\n",
      "\n",
      "\n"
     ]
    }
   ],
   "source": [
    "for n in range(2, 10):\n",
    "    cycles = cycle(n)\n",
    "    count = Counter(cycles).items()\n",
    "    \n",
    "    print(f\"Network of {n} participants:\")\n",
    "    for key, value in count:\n",
    "        print(f\"{key} disjoint cycles happen with probability {value/len(cycles):.2f}\")\n",
    "        \n",
    "    print(\"\\n\")"
   ]
  }
 ],
 "metadata": {
  "kernelspec": {
   "display_name": "Python 3",
   "language": "python",
   "name": "python3"
  },
  "language_info": {
   "codemirror_mode": {
    "name": "ipython",
    "version": 3
   },
   "file_extension": ".py",
   "mimetype": "text/x-python",
   "name": "python",
   "nbconvert_exporter": "python",
   "pygments_lexer": "ipython3",
   "version": "3.7.1"
  }
 },
 "nbformat": 4,
 "nbformat_minor": 2
}
